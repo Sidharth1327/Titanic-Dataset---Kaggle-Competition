{
 "cells": [
  {
   "cell_type": "markdown",
   "id": "21b63bc4",
   "metadata": {
    "papermill": {
     "duration": 0.013461,
     "end_time": "2023-06-26T09:33:25.363537",
     "exception": false,
     "start_time": "2023-06-26T09:33:25.350076",
     "status": "completed"
    },
    "tags": []
   },
   "source": [
    "# Titanic - Machine Learning from Disaster"
   ]
  },
  {
   "cell_type": "code",
   "execution_count": 1,
   "id": "8f7d673a",
   "metadata": {
    "execution": {
     "iopub.execute_input": "2023-06-26T09:33:25.387370Z",
     "iopub.status.busy": "2023-06-26T09:33:25.386739Z",
     "iopub.status.idle": "2023-06-26T09:33:26.935131Z",
     "shell.execute_reply": "2023-06-26T09:33:26.933718Z"
    },
    "papermill": {
     "duration": 1.563437,
     "end_time": "2023-06-26T09:33:26.938006",
     "exception": false,
     "start_time": "2023-06-26T09:33:25.374569",
     "status": "completed"
    },
    "tags": []
   },
   "outputs": [],
   "source": [
    "import pandas as pd\n",
    "import numpy as np\n",
    "import matplotlib.pyplot as plt\n",
    "import seaborn as sns\n",
    "%matplotlib inline"
   ]
  },
  {
   "cell_type": "code",
   "execution_count": 2,
   "id": "81119e81",
   "metadata": {
    "execution": {
     "iopub.execute_input": "2023-06-26T09:33:26.961727Z",
     "iopub.status.busy": "2023-06-26T09:33:26.961317Z",
     "iopub.status.idle": "2023-06-26T09:33:27.018141Z",
     "shell.execute_reply": "2023-06-26T09:33:27.016900Z"
    },
    "papermill": {
     "duration": 0.072025,
     "end_time": "2023-06-26T09:33:27.020979",
     "exception": false,
     "start_time": "2023-06-26T09:33:26.948954",
     "status": "completed"
    },
    "tags": []
   },
   "outputs": [],
   "source": [
    "train_data = pd.read_csv('/kaggle/input/titanic/train.csv')\n",
    "test_data = pd.read_csv('/kaggle/input/titanic/test.csv')\n",
    "train_data['data']=1\n",
    "test_data['data']=0\n",
    "test_data['Survived'] =np.NaN \n",
    "#Just adding columns in each training and test data to distinguish betweeen them and also a column Survived in test data indicating it is to be predicted.\n",
    "combined_data = pd.concat([train_data,test_data]) \n",
    "\n"
   ]
  },
  {
   "cell_type": "code",
   "execution_count": 3,
   "id": "25682941",
   "metadata": {
    "execution": {
     "iopub.execute_input": "2023-06-26T09:33:27.044641Z",
     "iopub.status.busy": "2023-06-26T09:33:27.044228Z",
     "iopub.status.idle": "2023-06-26T09:33:27.068617Z",
     "shell.execute_reply": "2023-06-26T09:33:27.067146Z"
    },
    "papermill": {
     "duration": 0.040279,
     "end_time": "2023-06-26T09:33:27.072317",
     "exception": false,
     "start_time": "2023-06-26T09:33:27.032038",
     "status": "completed"
    },
    "tags": []
   },
   "outputs": [
    {
     "name": "stdout",
     "output_type": "stream",
     "text": [
      "<class 'pandas.core.frame.DataFrame'>\n",
      "RangeIndex: 891 entries, 0 to 890\n",
      "Data columns (total 13 columns):\n",
      " #   Column       Non-Null Count  Dtype  \n",
      "---  ------       --------------  -----  \n",
      " 0   PassengerId  891 non-null    int64  \n",
      " 1   Survived     891 non-null    int64  \n",
      " 2   Pclass       891 non-null    int64  \n",
      " 3   Name         891 non-null    object \n",
      " 4   Sex          891 non-null    object \n",
      " 5   Age          714 non-null    float64\n",
      " 6   SibSp        891 non-null    int64  \n",
      " 7   Parch        891 non-null    int64  \n",
      " 8   Ticket       891 non-null    object \n",
      " 9   Fare         891 non-null    float64\n",
      " 10  Cabin        204 non-null    object \n",
      " 11  Embarked     889 non-null    object \n",
      " 12  data         891 non-null    int64  \n",
      "dtypes: float64(2), int64(6), object(5)\n",
      "memory usage: 90.6+ KB\n"
     ]
    }
   ],
   "source": [
    "train_data.info()"
   ]
  },
  {
   "cell_type": "code",
   "execution_count": 4,
   "id": "d4850a7f",
   "metadata": {
    "execution": {
     "iopub.execute_input": "2023-06-26T09:33:27.098008Z",
     "iopub.status.busy": "2023-06-26T09:33:27.097126Z",
     "iopub.status.idle": "2023-06-26T09:33:27.111940Z",
     "shell.execute_reply": "2023-06-26T09:33:27.110727Z"
    },
    "papermill": {
     "duration": 0.030339,
     "end_time": "2023-06-26T09:33:27.114364",
     "exception": false,
     "start_time": "2023-06-26T09:33:27.084025",
     "status": "completed"
    },
    "tags": []
   },
   "outputs": [
    {
     "name": "stdout",
     "output_type": "stream",
     "text": [
      "<class 'pandas.core.frame.DataFrame'>\n",
      "RangeIndex: 418 entries, 0 to 417\n",
      "Data columns (total 13 columns):\n",
      " #   Column       Non-Null Count  Dtype  \n",
      "---  ------       --------------  -----  \n",
      " 0   PassengerId  418 non-null    int64  \n",
      " 1   Pclass       418 non-null    int64  \n",
      " 2   Name         418 non-null    object \n",
      " 3   Sex          418 non-null    object \n",
      " 4   Age          332 non-null    float64\n",
      " 5   SibSp        418 non-null    int64  \n",
      " 6   Parch        418 non-null    int64  \n",
      " 7   Ticket       418 non-null    object \n",
      " 8   Fare         417 non-null    float64\n",
      " 9   Cabin        91 non-null     object \n",
      " 10  Embarked     418 non-null    object \n",
      " 11  data         418 non-null    int64  \n",
      " 12  Survived     0 non-null      float64\n",
      "dtypes: float64(3), int64(5), object(5)\n",
      "memory usage: 42.6+ KB\n"
     ]
    }
   ],
   "source": [
    "test_data.info()"
   ]
  },
  {
   "cell_type": "markdown",
   "id": "b71118a8",
   "metadata": {
    "papermill": {
     "duration": 0.011213,
     "end_time": "2023-06-26T09:33:27.137104",
     "exception": false,
     "start_time": "2023-06-26T09:33:27.125891",
     "status": "completed"
    },
    "tags": []
   },
   "source": [
    "Here, we can observe the features Age, Cabin and Embarked has null values.(Note that Embarked has only 2 missing values). A total of 177 rows in Age feature is missing and also 687 rows are missing in Cabin feature. Age can be filled by mean which I think will be more suitable here and for Cabin, we have to explore more so that we will see whether that coulumn is important. In test data the features Age, Cabin and fare has missing values , also note that fare has only one missing values. So while data cleaning we will do it for the combined data so that we have no null values in the entire dataset. Other than cabin feature, others can be filled by statistical measures,but Cabin has to be taken care of in a different way."
   ]
  },
  {
   "cell_type": "markdown",
   "id": "3635386a",
   "metadata": {
    "papermill": {
     "duration": 0.010718,
     "end_time": "2023-06-26T09:33:27.158922",
     "exception": false,
     "start_time": "2023-06-26T09:33:27.148204",
     "status": "completed"
    },
    "tags": []
   },
   "source": [
    "**Dealing with missing values**"
   ]
  },
  {
   "cell_type": "code",
   "execution_count": 5,
   "id": "c84ce7e2",
   "metadata": {
    "execution": {
     "iopub.execute_input": "2023-06-26T09:33:27.183568Z",
     "iopub.status.busy": "2023-06-26T09:33:27.182604Z",
     "iopub.status.idle": "2023-06-26T09:33:27.202482Z",
     "shell.execute_reply": "2023-06-26T09:33:27.200908Z"
    },
    "papermill": {
     "duration": 0.035192,
     "end_time": "2023-06-26T09:33:27.205371",
     "exception": false,
     "start_time": "2023-06-26T09:33:27.170179",
     "status": "completed"
    },
    "tags": []
   },
   "outputs": [
    {
     "name": "stdout",
     "output_type": "stream",
     "text": [
      "<class 'pandas.core.frame.DataFrame'>\n",
      "Int64Index: 1309 entries, 0 to 417\n",
      "Data columns (total 13 columns):\n",
      " #   Column       Non-Null Count  Dtype  \n",
      "---  ------       --------------  -----  \n",
      " 0   PassengerId  1309 non-null   int64  \n",
      " 1   Survived     891 non-null    float64\n",
      " 2   Pclass       1309 non-null   int64  \n",
      " 3   Name         1309 non-null   object \n",
      " 4   Sex          1309 non-null   object \n",
      " 5   Age          1046 non-null   float64\n",
      " 6   SibSp        1309 non-null   int64  \n",
      " 7   Parch        1309 non-null   int64  \n",
      " 8   Ticket       1309 non-null   object \n",
      " 9   Fare         1308 non-null   float64\n",
      " 10  Cabin        295 non-null    object \n",
      " 11  Embarked     1307 non-null   object \n",
      " 12  data         1309 non-null   int64  \n",
      "dtypes: float64(3), int64(5), object(5)\n",
      "memory usage: 143.2+ KB\n"
     ]
    }
   ],
   "source": [
    "combined_data.info()"
   ]
  },
  {
   "cell_type": "code",
   "execution_count": 6,
   "id": "5c1716c7",
   "metadata": {
    "execution": {
     "iopub.execute_input": "2023-06-26T09:33:27.230634Z",
     "iopub.status.busy": "2023-06-26T09:33:27.230209Z",
     "iopub.status.idle": "2023-06-26T09:33:27.263118Z",
     "shell.execute_reply": "2023-06-26T09:33:27.262065Z"
    },
    "papermill": {
     "duration": 0.048959,
     "end_time": "2023-06-26T09:33:27.266032",
     "exception": false,
     "start_time": "2023-06-26T09:33:27.217073",
     "status": "completed"
    },
    "tags": []
   },
   "outputs": [],
   "source": [
    "#Filling missing values for continous data\n",
    "#Age - Imputing by passenger class as different passenger class had different median and mean for Age. \n",
    "def impute_age(cols):\n",
    "    Age = cols[0]\n",
    "    Pclass = cols[1]\n",
    "    \n",
    "    if pd.isnull(Age):\n",
    "\n",
    "        if Pclass == 1:\n",
    "            return 37\n",
    "\n",
    "        elif Pclass == 2:\n",
    "            return 29\n",
    "\n",
    "        else:\n",
    "            return 24\n",
    "\n",
    "    else:\n",
    "        return Age\n",
    "\n",
    "combined_data['Age'] = combined_data[['Age','Pclass']].apply(impute_age,axis=1)    \n",
    "    \n",
    "#Fare\n",
    "combined_data.Fare = combined_data.Fare.fillna(train_data.Fare.median())"
   ]
  },
  {
   "cell_type": "code",
   "execution_count": 7,
   "id": "c590c580",
   "metadata": {
    "execution": {
     "iopub.execute_input": "2023-06-26T09:33:27.290154Z",
     "iopub.status.busy": "2023-06-26T09:33:27.289780Z",
     "iopub.status.idle": "2023-06-26T09:33:27.322675Z",
     "shell.execute_reply": "2023-06-26T09:33:27.321366Z"
    },
    "papermill": {
     "duration": 0.048017,
     "end_time": "2023-06-26T09:33:27.325301",
     "exception": false,
     "start_time": "2023-06-26T09:33:27.277284",
     "status": "completed"
    },
    "tags": []
   },
   "outputs": [
    {
     "data": {
      "text/html": [
       "<div>\n",
       "<style scoped>\n",
       "    .dataframe tbody tr th:only-of-type {\n",
       "        vertical-align: middle;\n",
       "    }\n",
       "\n",
       "    .dataframe tbody tr th {\n",
       "        vertical-align: top;\n",
       "    }\n",
       "\n",
       "    .dataframe thead th {\n",
       "        text-align: right;\n",
       "    }\n",
       "</style>\n",
       "<table border=\"1\" class=\"dataframe\">\n",
       "  <thead>\n",
       "    <tr style=\"text-align: right;\">\n",
       "      <th></th>\n",
       "      <th>PassengerId</th>\n",
       "      <th>Survived</th>\n",
       "      <th>Pclass</th>\n",
       "      <th>Name</th>\n",
       "      <th>Sex</th>\n",
       "      <th>Age</th>\n",
       "      <th>SibSp</th>\n",
       "      <th>Parch</th>\n",
       "      <th>Ticket</th>\n",
       "      <th>Fare</th>\n",
       "      <th>Cabin</th>\n",
       "      <th>Embarked</th>\n",
       "      <th>data</th>\n",
       "    </tr>\n",
       "  </thead>\n",
       "  <tbody>\n",
       "    <tr>\n",
       "      <th>61</th>\n",
       "      <td>62</td>\n",
       "      <td>1.0</td>\n",
       "      <td>1</td>\n",
       "      <td>Icard, Miss. Amelie</td>\n",
       "      <td>female</td>\n",
       "      <td>38.0</td>\n",
       "      <td>0</td>\n",
       "      <td>0</td>\n",
       "      <td>113572</td>\n",
       "      <td>80.0</td>\n",
       "      <td>B28</td>\n",
       "      <td>NaN</td>\n",
       "      <td>1</td>\n",
       "    </tr>\n",
       "    <tr>\n",
       "      <th>829</th>\n",
       "      <td>830</td>\n",
       "      <td>1.0</td>\n",
       "      <td>1</td>\n",
       "      <td>Stone, Mrs. George Nelson (Martha Evelyn)</td>\n",
       "      <td>female</td>\n",
       "      <td>62.0</td>\n",
       "      <td>0</td>\n",
       "      <td>0</td>\n",
       "      <td>113572</td>\n",
       "      <td>80.0</td>\n",
       "      <td>B28</td>\n",
       "      <td>NaN</td>\n",
       "      <td>1</td>\n",
       "    </tr>\n",
       "  </tbody>\n",
       "</table>\n",
       "</div>"
      ],
      "text/plain": [
       "     PassengerId  Survived  Pclass                                       Name  \\\n",
       "61            62       1.0       1                        Icard, Miss. Amelie   \n",
       "829          830       1.0       1  Stone, Mrs. George Nelson (Martha Evelyn)   \n",
       "\n",
       "        Sex   Age  SibSp  Parch  Ticket  Fare Cabin Embarked  data  \n",
       "61   female  38.0      0      0  113572  80.0   B28      NaN     1  \n",
       "829  female  62.0      0      0  113572  80.0   B28      NaN     1  "
      ]
     },
     "execution_count": 7,
     "metadata": {},
     "output_type": "execute_result"
    }
   ],
   "source": [
    "combined_data[combined_data['Embarked'].isnull()]"
   ]
  },
  {
   "cell_type": "markdown",
   "id": "fff9e076",
   "metadata": {
    "papermill": {
     "duration": 0.01107,
     "end_time": "2023-06-26T09:33:27.348367",
     "exception": false,
     "start_time": "2023-06-26T09:33:27.337297",
     "status": "completed"
    },
    "tags": []
   },
   "source": [
    "While exploring embarked feature,we can observe that both the passengers have been embarked from same por, since theeir tickedt number are same.While exploring the data, if the null values are filled with the 'most frequent' strategy, it will fill it as 'C', but in google it shows both of this passengers have embarked from port 'S'. So we will fill the embarked feature with 'S'. "
   ]
  },
  {
   "cell_type": "code",
   "execution_count": 8,
   "id": "a2f3071b",
   "metadata": {
    "execution": {
     "iopub.execute_input": "2023-06-26T09:33:27.373126Z",
     "iopub.status.busy": "2023-06-26T09:33:27.372747Z",
     "iopub.status.idle": "2023-06-26T09:33:27.379936Z",
     "shell.execute_reply": "2023-06-26T09:33:27.378649Z"
    },
    "papermill": {
     "duration": 0.022354,
     "end_time": "2023-06-26T09:33:27.382142",
     "exception": false,
     "start_time": "2023-06-26T09:33:27.359788",
     "status": "completed"
    },
    "tags": []
   },
   "outputs": [],
   "source": [
    "combined_data['Embarked'] = combined_data['Embarked'].fillna('S')"
   ]
  },
  {
   "cell_type": "code",
   "execution_count": 9,
   "id": "ea403412",
   "metadata": {
    "execution": {
     "iopub.execute_input": "2023-06-26T09:33:27.407448Z",
     "iopub.status.busy": "2023-06-26T09:33:27.406679Z",
     "iopub.status.idle": "2023-06-26T09:33:27.914059Z",
     "shell.execute_reply": "2023-06-26T09:33:27.912898Z"
    },
    "papermill": {
     "duration": 0.523171,
     "end_time": "2023-06-26T09:33:27.916819",
     "exception": false,
     "start_time": "2023-06-26T09:33:27.393648",
     "status": "completed"
    },
    "tags": []
   },
   "outputs": [
    {
     "data": {
      "image/png": "[encoded data removed]",
      "text/plain": [
       "<Figure size 2000x1000 with 1 Axes>"
      ]
     },
     "metadata": {},
     "output_type": "display_data"
    }
   ],
   "source": [
    "#Cabin cant be completely dropped because cabin and Pclass can be related and definitely Pclass will have a reelation with survival rate. Here, it is somewhat advanced feature engineering and I had \n",
    "#taken some reference from Gunes Evitan \n",
    "# Creating Deck column from the first letter of the Cabin column (M stands for Missing)\n",
    "#On the Boat Deck there were 6 rooms labeled as T, U, W, X, Y, Z but only the T cabin is present in the dataset\n",
    "#A, B and C decks were only for 1st class passengers\n",
    "#D and E decks were for all classes\n",
    "#F and G decks were for both 2nd and 3rd class passengers\n",
    "#From going A to G, distance to the staircase increases which might be a factor of survival\n",
    "\n",
    "combined_data['Deck'] =combined_data['Cabin'].apply(lambda s: s[0] if pd.notnull(s) else 'M')\n",
    "\n",
    "combined_data_decks = combined_data.groupby(['Deck', 'Pclass']).count().drop(columns=['Survived', 'Sex', 'Age', 'SibSp', 'Parch', \n",
    "                                                                        'Fare', 'Embarked', 'Cabin', 'PassengerId', 'Ticket']).rename(columns={'Name': 'Count'}).transpose()\n",
    "\n",
    "def get_pclass_dist(df):\n",
    "    \n",
    "    # Creating a dictionary for every passenger class count in every deck\n",
    "    deck_counts = {'A': {}, 'B': {}, 'C': {}, 'D': {}, 'E': {}, 'F': {}, 'G': {}, 'M': {}, 'T': {}}\n",
    "    decks = df.columns.levels[0]    \n",
    "    \n",
    "    for deck in decks:\n",
    "        for pclass in range(1, 4):\n",
    "            try:\n",
    "                count = df[deck][pclass][0]\n",
    "                deck_counts[deck][pclass] = count \n",
    "            except KeyError:\n",
    "                deck_counts[deck][pclass] = 0\n",
    "                \n",
    "    df_decks = pd.DataFrame(deck_counts)    \n",
    "    deck_percentages = {}\n",
    "\n",
    "    # Creating a dictionary for every passenger class percentage in every deck\n",
    "    for col in df_decks.columns:\n",
    "        deck_percentages[col] = [(count / df_decks[col].sum()) * 100 for count in df_decks[col]]\n",
    "        \n",
    "    return deck_counts, deck_percentages\n",
    "\n",
    "def display_pclass_dist(percentages):\n",
    "    \n",
    "    df_percentages = pd.DataFrame(percentages).transpose()\n",
    "    deck_names = ('A', 'B', 'C', 'D', 'E', 'F', 'G', 'M', 'T')\n",
    "    bar_count = np.arange(len(deck_names))  \n",
    "    bar_width = 0.85\n",
    "    \n",
    "    pclass1 = df_percentages[0]\n",
    "    pclass2 = df_percentages[1]\n",
    "    pclass3 = df_percentages[2]\n",
    "    \n",
    "    plt.figure(figsize=(20, 10))\n",
    "    plt.bar(bar_count, pclass1, color='#b5ffb9', edgecolor='white', width=bar_width, label='Passenger Class 1')\n",
    "    plt.bar(bar_count, pclass2, bottom=pclass1, color='#f9bc86', edgecolor='white', width=bar_width, label='Passenger Class 2')\n",
    "    plt.bar(bar_count, pclass3, bottom=pclass1 + pclass2, color='#a3acff', edgecolor='white', width=bar_width, label='Passenger Class 3')\n",
    "\n",
    "    plt.xlabel('Deck', size=15, labelpad=20)\n",
    "    plt.ylabel('Passenger Class Percentage', size=15, labelpad=20)\n",
    "    plt.xticks(bar_count, deck_names)    \n",
    "    plt.tick_params(axis='x', labelsize=15)\n",
    "    plt.tick_params(axis='y', labelsize=15)\n",
    "    \n",
    "    plt.legend(loc='upper left', bbox_to_anchor=(1, 1), prop={'size': 15})\n",
    "    plt.title('Passenger Class Distribution in Decks', size=18, y=1.05)   \n",
    "    \n",
    "    plt.show()    \n",
    "\n",
    "all_deck_count, all_deck_per = get_pclass_dist(combined_data_decks)\n",
    "display_pclass_dist(all_deck_per)"
   ]
  },
  {
   "cell_type": "markdown",
   "id": "e7603aac",
   "metadata": {
    "papermill": {
     "duration": 0.012231,
     "end_time": "2023-06-26T09:33:27.941572",
     "exception": false,
     "start_time": "2023-06-26T09:33:27.929341",
     "status": "completed"
    },
    "tags": []
   },
   "source": [
    "* 100% of A, B and C decks are 1st class passengers\n",
    "* Deck D has 87% 1st class and 13% 2nd class passengers\n",
    "* Deck E has 83% 1st class, 10% 2nd class and 7% 3rd class passengers\n",
    "* Deck F has 62% 2nd class and 38% 3rd class passengers\n",
    "* 100% of G deck are 3rd class passengers\n",
    "* There is one person on the boat deck in T cabin and he is a 1st class passenger. T cabin passenger has the closest resemblance to A deck passengers so he is grouped with A deck\n",
    "Passengers labeled as M are the missing values in Cabin feature. I don't think it is possible to find those passengers' real Deck so I decided to use M like a deck"
   ]
  },
  {
   "cell_type": "code",
   "execution_count": 10,
   "id": "a629e5f2",
   "metadata": {
    "execution": {
     "iopub.execute_input": "2023-06-26T09:33:27.968770Z",
     "iopub.status.busy": "2023-06-26T09:33:27.967573Z",
     "iopub.status.idle": "2023-06-26T09:33:27.978956Z",
     "shell.execute_reply": "2023-06-26T09:33:27.977887Z"
    },
    "papermill": {
     "duration": 0.027794,
     "end_time": "2023-06-26T09:33:27.981662",
     "exception": false,
     "start_time": "2023-06-26T09:33:27.953868",
     "status": "completed"
    },
    "tags": []
   },
   "outputs": [],
   "source": [
    "# Passenger in the T deck is changed to A\n",
    "idx = combined_data[combined_data['Deck'] == 'T'].index\n",
    "combined_data.loc[idx, 'Deck'] = 'A'"
   ]
  },
  {
   "cell_type": "code",
   "execution_count": 11,
   "id": "ece35f79",
   "metadata": {
    "execution": {
     "iopub.execute_input": "2023-06-26T09:33:28.010783Z",
     "iopub.status.busy": "2023-06-26T09:33:28.009096Z",
     "iopub.status.idle": "2023-06-26T09:33:28.409524Z",
     "shell.execute_reply": "2023-06-26T09:33:28.408238Z"
    },
    "papermill": {
     "duration": 0.418162,
     "end_time": "2023-06-26T09:33:28.412079",
     "exception": false,
     "start_time": "2023-06-26T09:33:27.993917",
     "status": "completed"
    },
    "tags": []
   },
   "outputs": [
    {
     "data": {
      "image/png": "[encoded data removed]",
      "text/plain": [
       "<Figure size 2000x1000 with 1 Axes>"
      ]
     },
     "metadata": {},
     "output_type": "display_data"
    }
   ],
   "source": [
    "combined_data_survived = combined_data.groupby(['Deck', 'Survived']).count().drop(columns=['Sex', 'Age', 'SibSp', 'Parch', 'Fare', \n",
    "                                                                                   'Embarked', 'Pclass', 'Cabin', 'PassengerId', 'Ticket']).rename(columns={'Name':'Count'}).transpose()\n",
    "\n",
    "def get_survived_dist(df):\n",
    "    \n",
    "    # Creating a dictionary for every survival count in every deck\n",
    "    surv_counts = {'A':{}, 'B':{}, 'C':{}, 'D':{}, 'E':{}, 'F':{}, 'G':{}, 'M':{}}\n",
    "    decks = df.columns.levels[0]    \n",
    "\n",
    "    for deck in decks:\n",
    "        for survive in range(0, 2):\n",
    "            surv_counts[deck][survive] = df[deck][survive][0]\n",
    "            \n",
    "    df_surv = pd.DataFrame(surv_counts)\n",
    "    surv_percentages = {}\n",
    "\n",
    "    for col in df_surv.columns:\n",
    "        surv_percentages[col] = [(count / df_surv[col].sum()) * 100 for count in df_surv[col]]\n",
    "        \n",
    "    return surv_counts, surv_percentages\n",
    "\n",
    "def display_surv_dist(percentages):\n",
    "    \n",
    "    df_survived_percentages = pd.DataFrame(percentages).transpose()\n",
    "    deck_names = ('A', 'B', 'C', 'D', 'E', 'F', 'G', 'M')\n",
    "    bar_count = np.arange(len(deck_names))  \n",
    "    bar_width = 0.85    \n",
    "\n",
    "    not_survived = df_survived_percentages[0]\n",
    "    survived = df_survived_percentages[1]\n",
    "    \n",
    "    plt.figure(figsize=(20, 10))\n",
    "    plt.bar(bar_count, not_survived, color='#b5ffb9', edgecolor='white', width=bar_width, label=\"Not Survived\")\n",
    "    plt.bar(bar_count, survived, bottom=not_survived, color='#f9bc86', edgecolor='white', width=bar_width, label=\"Survived\")\n",
    " \n",
    "    plt.xlabel('Deck', size=15, labelpad=20)\n",
    "    plt.ylabel('Survival Percentage', size=15, labelpad=20)\n",
    "    plt.xticks(bar_count, deck_names)    \n",
    "    plt.tick_params(axis='x', labelsize=15)\n",
    "    plt.tick_params(axis='y', labelsize=15)\n",
    "    \n",
    "    plt.legend(loc='upper left', bbox_to_anchor=(1, 1), prop={'size': 15})\n",
    "    plt.title('Survival Percentage in Decks', size=18, y=1.05)\n",
    "    \n",
    "    plt.show()\n",
    "\n",
    "all_surv_count, all_surv_per = get_survived_dist(combined_data_survived)\n",
    "display_surv_dist(all_surv_per)"
   ]
  },
  {
   "cell_type": "markdown",
   "id": "87a699e1",
   "metadata": {
    "papermill": {
     "duration": 0.01285,
     "end_time": "2023-06-26T09:33:28.438190",
     "exception": false,
     "start_time": "2023-06-26T09:33:28.425340",
     "status": "completed"
    },
    "tags": []
   },
   "source": [
    "As I suspected, every deck has different survival rates and that information can't be discarded. Deck B, C, D and E have the highest survival rates. Those decks are mostly occupied by 1st class passengers. M has the lowest survival rate which is mostly occupied by 2nd and 3rd class passengers. To conclude, cabins used by 1st class passengers have higher survival rates than cabins used by 2nd and 3rd class passengers. In my opinion M (Missing Cabin values) has the lowest survival rate because they couldn't retrieve the cabin data of the victims. That's why I believe labeling that group as M is a reasonable way to handle the missing data. It is a unique group with shared characteristics. Deck feature has high-cardinality right now so some of the values are grouped with each other based on their similarities.\n",
    "\n",
    "* A, B and C decks are labeled as ABC because all of them have only 1st class passengers\n",
    "* D and E decks are labeled as DE because both of them have similar passenger class distribution and same survival rate\n",
    "* F and G decks are labeled as FG because of the same reason above\n",
    "* M deck doesn't need to be grouped with other decks because it is very different from others and has the lowest survival rate."
   ]
  },
  {
   "cell_type": "code",
   "execution_count": 12,
   "id": "71572ca7",
   "metadata": {
    "execution": {
     "iopub.execute_input": "2023-06-26T09:33:28.466953Z",
     "iopub.status.busy": "2023-06-26T09:33:28.466477Z",
     "iopub.status.idle": "2023-06-26T09:33:28.483068Z",
     "shell.execute_reply": "2023-06-26T09:33:28.481751Z"
    },
    "papermill": {
     "duration": 0.034397,
     "end_time": "2023-06-26T09:33:28.485738",
     "exception": false,
     "start_time": "2023-06-26T09:33:28.451341",
     "status": "completed"
    },
    "tags": []
   },
   "outputs": [
    {
     "data": {
      "text/plain": [
       "M      1013\n",
       "ABC     183\n",
       "DE       87\n",
       "FG       26\n",
       "Name: Deck, dtype: int64"
      ]
     },
     "execution_count": 12,
     "metadata": {},
     "output_type": "execute_result"
    }
   ],
   "source": [
    "combined_data['Deck'] =combined_data['Deck'].replace(['A', 'B', 'C'], 'ABC')\n",
    "combined_data['Deck'] =combined_data['Deck'].replace(['D', 'E'], 'DE')\n",
    "combined_data['Deck'] =combined_data['Deck'].replace(['F', 'G'], 'FG')\n",
    "\n",
    "combined_data['Deck'].value_counts()"
   ]
  },
  {
   "cell_type": "code",
   "execution_count": 13,
   "id": "f71f4cf8",
   "metadata": {
    "execution": {
     "iopub.execute_input": "2023-06-26T09:33:28.515224Z",
     "iopub.status.busy": "2023-06-26T09:33:28.514807Z",
     "iopub.status.idle": "2023-06-26T09:33:28.521907Z",
     "shell.execute_reply": "2023-06-26T09:33:28.520631Z"
    },
    "papermill": {
     "duration": 0.0252,
     "end_time": "2023-06-26T09:33:28.524274",
     "exception": false,
     "start_time": "2023-06-26T09:33:28.499074",
     "status": "completed"
    },
    "tags": []
   },
   "outputs": [],
   "source": [
    "# Dropping the Cabin feature\n",
    "combined_data.drop(['Cabin'], inplace=True, axis=1)\n"
   ]
  },
  {
   "cell_type": "code",
   "execution_count": 14,
   "id": "e8e3a72c",
   "metadata": {
    "execution": {
     "iopub.execute_input": "2023-06-26T09:33:28.553196Z",
     "iopub.status.busy": "2023-06-26T09:33:28.552798Z",
     "iopub.status.idle": "2023-06-26T09:33:28.571772Z",
     "shell.execute_reply": "2023-06-26T09:33:28.570475Z"
    },
    "papermill": {
     "duration": 0.0368,
     "end_time": "2023-06-26T09:33:28.574483",
     "exception": false,
     "start_time": "2023-06-26T09:33:28.537683",
     "status": "completed"
    },
    "tags": []
   },
   "outputs": [],
   "source": [
    "combined_data['numeric_ticket'] = combined_data.Ticket.apply(lambda x: 1 if x.isnumeric() else 0)\n",
    "combined_data['ticket_letters'] = combined_data.Ticket.apply(lambda x: ''.join(x.split(' ')[:-1]).replace('.','').replace('/','').lower() if len(x.split(' ')[:-1]) >0 else 0)\n",
    "combined_data['name_title'] = combined_data.Name.apply(lambda x: x.split(',')[1].split('.')[0].strip())\n",
    "combined_data['norm_fare'] = np.log(combined_data.Fare+1)\n",
    "combined_data.Pclass = combined_data.Pclass.astype(str)"
   ]
  },
  {
   "cell_type": "code",
   "execution_count": 15,
   "id": "785476ad",
   "metadata": {
    "execution": {
     "iopub.execute_input": "2023-06-26T09:33:28.605570Z",
     "iopub.status.busy": "2023-06-26T09:33:28.605129Z",
     "iopub.status.idle": "2023-06-26T09:33:28.629456Z",
     "shell.execute_reply": "2023-06-26T09:33:28.628481Z"
    },
    "papermill": {
     "duration": 0.042094,
     "end_time": "2023-06-26T09:33:28.632305",
     "exception": false,
     "start_time": "2023-06-26T09:33:28.590211",
     "status": "completed"
    },
    "tags": []
   },
   "outputs": [
    {
     "data": {
      "text/plain": [
       "(891,)"
      ]
     },
     "execution_count": 15,
     "metadata": {},
     "output_type": "execute_result"
    }
   ],
   "source": [
    "combined_dummies = pd.get_dummies(combined_data[['Pclass','Sex','Age','SibSp','Parch','norm_fare','Embarked','Deck','numeric_ticket','name_title','data']])\n",
    "X_train = combined_dummies[combined_dummies.data == 1].drop(['data'], axis =1)\n",
    "X_test = combined_dummies[combined_dummies.data == 0].drop(['data'], axis =1)\n",
    "y_train = combined_data[combined_data.data==1].Survived\n",
    "y_train.shape"
   ]
  },
  {
   "cell_type": "markdown",
   "id": "0a67fbef",
   "metadata": {
    "papermill": {
     "duration": 0.013307,
     "end_time": "2023-06-26T09:33:28.659095",
     "exception": false,
     "start_time": "2023-06-26T09:33:28.645788",
     "status": "completed"
    },
    "tags": []
   },
   "source": [
    "# Scaling the Data"
   ]
  },
  {
   "cell_type": "code",
   "execution_count": 16,
   "id": "061b45ec",
   "metadata": {
    "execution": {
     "iopub.execute_input": "2023-06-26T09:33:28.689773Z",
     "iopub.status.busy": "2023-06-26T09:33:28.689340Z",
     "iopub.status.idle": "2023-06-26T09:33:28.882652Z",
     "shell.execute_reply": "2023-06-26T09:33:28.881416Z"
    },
    "papermill": {
     "duration": 0.211597,
     "end_time": "2023-06-26T09:33:28.885524",
     "exception": false,
     "start_time": "2023-06-26T09:33:28.673927",
     "status": "completed"
    },
    "tags": []
   },
   "outputs": [],
   "source": [
    "from sklearn.preprocessing import StandardScaler\n",
    "scale = StandardScaler()\n",
    "combined_dummies_scaled = combined_dummies.copy()\n",
    "combined_dummies_scaled[['Age','SibSp','Parch','norm_fare']]= scale.fit_transform(combined_dummies_scaled[['Age','SibSp','Parch','norm_fare']])\n",
    "combined_dummies_scaled\n",
    "\n",
    "X_train_scaled = combined_dummies_scaled[combined_dummies_scaled.data == 1].drop(['data'], axis =1)\n",
    "X_test_scaled = combined_dummies_scaled[combined_dummies_scaled.data == 0].drop(['data'], axis =1)\n",
    "\n",
    "y_train = combined_data[combined_data.data==1].Survived"
   ]
  },
  {
   "cell_type": "markdown",
   "id": "d8277e34",
   "metadata": {
    "papermill": {
     "duration": 0.012869,
     "end_time": "2023-06-26T09:33:28.912183",
     "exception": false,
     "start_time": "2023-06-26T09:33:28.899314",
     "status": "completed"
    },
    "tags": []
   },
   "source": [
    "# Model Building"
   ]
  },
  {
   "cell_type": "code",
   "execution_count": 17,
   "id": "046f9129",
   "metadata": {
    "execution": {
     "iopub.execute_input": "2023-06-26T09:33:28.941159Z",
     "iopub.status.busy": "2023-06-26T09:33:28.940761Z",
     "iopub.status.idle": "2023-06-26T09:33:29.344556Z",
     "shell.execute_reply": "2023-06-26T09:33:29.343266Z"
    },
    "papermill": {
     "duration": 0.421954,
     "end_time": "2023-06-26T09:33:29.347519",
     "exception": false,
     "start_time": "2023-06-26T09:33:28.925565",
     "status": "completed"
    },
    "tags": []
   },
   "outputs": [],
   "source": [
    "from sklearn.svm import SVC\n",
    "from xgboost import XGBClassifier\n",
    "from sklearn.model_selection import cross_val_score\n"
   ]
  },
  {
   "cell_type": "code",
   "execution_count": 18,
   "id": "a8527e17",
   "metadata": {
    "execution": {
     "iopub.execute_input": "2023-06-26T09:33:29.377315Z",
     "iopub.status.busy": "2023-06-26T09:33:29.376892Z",
     "iopub.status.idle": "2023-06-26T09:33:30.200730Z",
     "shell.execute_reply": "2023-06-26T09:33:30.199786Z"
    },
    "papermill": {
     "duration": 0.841572,
     "end_time": "2023-06-26T09:33:30.203404",
     "exception": false,
     "start_time": "2023-06-26T09:33:29.361832",
     "status": "completed"
    },
    "tags": []
   },
   "outputs": [
    {
     "name": "stdout",
     "output_type": "stream",
     "text": [
      "[0.81564246 0.80898876 0.86516854 0.80898876 0.84831461]\n",
      "0.8294206264515724\n"
     ]
    }
   ],
   "source": [
    "xgb = XGBClassifier(random_state =1)\n",
    "cv = cross_val_score(xgb,X_train_scaled,y_train,cv=5)\n",
    "print(cv)\n",
    "print(cv.mean())"
   ]
  },
  {
   "cell_type": "code",
   "execution_count": 19,
   "id": "a4751287",
   "metadata": {
    "execution": {
     "iopub.execute_input": "2023-06-26T09:33:30.233906Z",
     "iopub.status.busy": "2023-06-26T09:33:30.233256Z",
     "iopub.status.idle": "2023-06-26T09:33:30.753014Z",
     "shell.execute_reply": "2023-06-26T09:33:30.751272Z"
    },
    "papermill": {
     "duration": 0.537863,
     "end_time": "2023-06-26T09:33:30.756091",
     "exception": false,
     "start_time": "2023-06-26T09:33:30.218228",
     "status": "completed"
    },
    "tags": []
   },
   "outputs": [
    {
     "name": "stdout",
     "output_type": "stream",
     "text": [
      "[0.84357542 0.81460674 0.83146067 0.80337079 0.85393258]\n",
      "0.8293892411022534\n"
     ]
    }
   ],
   "source": [
    "svc = SVC(probability = True)\n",
    "cv = cross_val_score(svc,X_train_scaled,y_train,cv=5)\n",
    "print(cv)\n",
    "print(cv.mean())"
   ]
  },
  {
   "cell_type": "code",
   "execution_count": 20,
   "id": "4a3e1591",
   "metadata": {
    "execution": {
     "iopub.execute_input": "2023-06-26T09:33:30.786234Z",
     "iopub.status.busy": "2023-06-26T09:33:30.785813Z",
     "iopub.status.idle": "2023-06-26T09:33:33.391652Z",
     "shell.execute_reply": "2023-06-26T09:33:33.390616Z"
    },
    "papermill": {
     "duration": 2.623506,
     "end_time": "2023-06-26T09:33:33.394101",
     "exception": false,
     "start_time": "2023-06-26T09:33:30.770595",
     "status": "completed"
    },
    "tags": []
   },
   "outputs": [
    {
     "name": "stdout",
     "output_type": "stream",
     "text": [
      "[0.84916201 0.81460674 0.84269663 0.79213483 0.86516854]\n",
      "0.8327537505492435\n"
     ]
    }
   ],
   "source": [
    "from sklearn.ensemble import VotingClassifier\n",
    "voting_clf = VotingClassifier(estimators = [('svc',svc),('xgb',xgb)], voting = 'soft') \n",
    "cv = cross_val_score(voting_clf,X_train_scaled,y_train,cv=5)\n",
    "print(cv)\n",
    "print(cv.mean())"
   ]
  },
  {
   "cell_type": "code",
   "execution_count": 21,
   "id": "b20dbb64",
   "metadata": {
    "execution": {
     "iopub.execute_input": "2023-06-26T09:33:33.423994Z",
     "iopub.status.busy": "2023-06-26T09:33:33.423568Z",
     "iopub.status.idle": "2023-06-26T09:33:33.773793Z",
     "shell.execute_reply": "2023-06-26T09:33:33.772779Z"
    },
    "papermill": {
     "duration": 0.368264,
     "end_time": "2023-06-26T09:33:33.776869",
     "exception": false,
     "start_time": "2023-06-26T09:33:33.408605",
     "status": "completed"
    },
    "tags": []
   },
   "outputs": [],
   "source": [
    "voting_clf.fit(X_train_scaled,y_train)\n",
    "y_pred = voting_clf.predict(X_test_scaled).astype(int)\n",
    "basic_submission = {'PassengerId': test_data.PassengerId, 'Survived': y_pred}\n",
    "base_submission = pd.DataFrame(data=basic_submission)\n",
    "base_submission.to_csv('base_submission.csv', index=False)"
   ]
  },
  {
   "cell_type": "markdown",
   "id": "1b9ed1c1",
   "metadata": {
    "papermill": {
     "duration": 0.013143,
     "end_time": "2023-06-26T09:33:33.804422",
     "exception": false,
     "start_time": "2023-06-26T09:33:33.791279",
     "status": "completed"
    },
    "tags": []
   },
   "source": [
    "# Model Tuning"
   ]
  },
  {
   "cell_type": "code",
   "execution_count": 22,
   "id": "f899d571",
   "metadata": {
    "execution": {
     "iopub.execute_input": "2023-06-26T09:33:33.834031Z",
     "iopub.status.busy": "2023-06-26T09:33:33.833255Z",
     "iopub.status.idle": "2023-06-26T09:33:33.837628Z",
     "shell.execute_reply": "2023-06-26T09:33:33.836847Z"
    },
    "papermill": {
     "duration": 0.021761,
     "end_time": "2023-06-26T09:33:33.839830",
     "exception": false,
     "start_time": "2023-06-26T09:33:33.818069",
     "status": "completed"
    },
    "tags": []
   },
   "outputs": [],
   "source": [
    "from sklearn.model_selection import GridSearchCV \n",
    "from sklearn.model_selection import RandomizedSearchCV "
   ]
  },
  {
   "cell_type": "code",
   "execution_count": 23,
   "id": "0be99a60",
   "metadata": {
    "execution": {
     "iopub.execute_input": "2023-06-26T09:33:33.869363Z",
     "iopub.status.busy": "2023-06-26T09:33:33.868624Z",
     "iopub.status.idle": "2023-06-26T09:36:32.933011Z",
     "shell.execute_reply": "2023-06-26T09:36:32.931249Z"
    },
    "papermill": {
     "duration": 179.082473,
     "end_time": "2023-06-26T09:36:32.936070",
     "exception": false,
     "start_time": "2023-06-26T09:33:33.853597",
     "status": "completed"
    },
    "tags": []
   },
   "outputs": [
    {
     "name": "stdout",
     "output_type": "stream",
     "text": [
      "Fitting 5 folds for each of 55 candidates, totalling 275 fits\n"
     ]
    }
   ],
   "source": [
    "svc = SVC(probability = True)\n",
    "param_grid = tuned_parameters = [{'kernel': ['rbf'], 'gamma': [.1,.5,1,2,5,10],\n",
    "                                  'C': [.1, 1, 10, 100, 1000]},\n",
    "                                 {'kernel': ['linear'], 'C': [.1, 1, 10, 100, 1000]},\n",
    "                                 {'kernel': ['poly'], 'degree' : [2,3,4,5], 'C': [.1, 1, 10, 100, 1000]}]\n",
    "clf_svc = GridSearchCV(svc, param_grid = param_grid, cv = 5, verbose = True, n_jobs = -1)\n",
    "best_clf_svc = clf_svc.fit(X_train_scaled,y_train)"
   ]
  },
  {
   "cell_type": "code",
   "execution_count": 24,
   "id": "ef7dede0",
   "metadata": {
    "execution": {
     "iopub.execute_input": "2023-06-26T09:36:32.966487Z",
     "iopub.status.busy": "2023-06-26T09:36:32.965997Z",
     "iopub.status.idle": "2023-06-26T09:44:43.871569Z",
     "shell.execute_reply": "2023-06-26T09:44:43.870460Z"
    },
    "papermill": {
     "duration": 490.924655,
     "end_time": "2023-06-26T09:44:43.874761",
     "exception": false,
     "start_time": "2023-06-26T09:36:32.950106",
     "status": "completed"
    },
    "tags": []
   },
   "outputs": [
    {
     "name": "stdout",
     "output_type": "stream",
     "text": [
      "Fitting 5 folds for each of 243 candidates, totalling 1215 fits\n"
     ]
    }
   ],
   "source": [
    "xgb = XGBClassifier(random_state = 1)\n",
    "\n",
    "param_grid = {\n",
    "    'n_estimators': [450,500,550],\n",
    "    'colsample_bytree': [0.75,0.8,0.85],\n",
    "    'max_depth': [None],\n",
    "    'reg_alpha': [1],\n",
    "    'reg_lambda': [2, 5, 10],\n",
    "    'subsample': [0.55, 0.6, .65],\n",
    "    'learning_rate':[0.5],\n",
    "    'gamma':[.5,1,2],\n",
    "    'min_child_weight':[0.01],\n",
    "    'sampling_method': ['uniform']\n",
    "}\n",
    "\n",
    "clf_xgb = GridSearchCV(xgb, param_grid = param_grid, cv = 5, verbose = True, n_jobs = -1)\n",
    "best_clf_xgb = clf_xgb.fit(X_train_scaled,y_train)"
   ]
  },
  {
   "cell_type": "code",
   "execution_count": 25,
   "id": "08ad5935",
   "metadata": {
    "execution": {
     "iopub.execute_input": "2023-06-26T09:44:43.906583Z",
     "iopub.status.busy": "2023-06-26T09:44:43.906153Z",
     "iopub.status.idle": "2023-06-26T09:44:43.911442Z",
     "shell.execute_reply": "2023-06-26T09:44:43.910034Z"
    },
    "papermill": {
     "duration": 0.023017,
     "end_time": "2023-06-26T09:44:43.913801",
     "exception": false,
     "start_time": "2023-06-26T09:44:43.890784",
     "status": "completed"
    },
    "tags": []
   },
   "outputs": [],
   "source": [
    "best_svc = best_clf_svc.best_estimator_\n",
    "best_xgb = best_clf_xgb.best_estimator_"
   ]
  },
  {
   "cell_type": "code",
   "execution_count": 26,
   "id": "a0708206",
   "metadata": {
    "execution": {
     "iopub.execute_input": "2023-06-26T09:44:43.943676Z",
     "iopub.status.busy": "2023-06-26T09:44:43.943011Z",
     "iopub.status.idle": "2023-06-26T09:44:44.981506Z",
     "shell.execute_reply": "2023-06-26T09:44:44.980554Z"
    },
    "papermill": {
     "duration": 1.056808,
     "end_time": "2023-06-26T09:44:44.984438",
     "exception": false,
     "start_time": "2023-06-26T09:44:43.927630",
     "status": "completed"
    },
    "tags": []
   },
   "outputs": [],
   "source": [
    "voting_clf_final = VotingClassifier(estimators = [('svc',best_svc), ('xgb', best_xgb)], voting = 'soft')\n",
    "voting_clf_final.fit(X_train_scaled, y_train)\n",
    "y_pred_final = voting_clf_final.predict(X_test_scaled).astype(int)"
   ]
  },
  {
   "cell_type": "code",
   "execution_count": 27,
   "id": "a1e20f45",
   "metadata": {
    "execution": {
     "iopub.execute_input": "2023-06-26T09:44:45.015602Z",
     "iopub.status.busy": "2023-06-26T09:44:45.015171Z",
     "iopub.status.idle": "2023-06-26T09:44:45.030628Z",
     "shell.execute_reply": "2023-06-26T09:44:45.029257Z"
    },
    "papermill": {
     "duration": 0.033585,
     "end_time": "2023-06-26T09:44:45.033345",
     "exception": false,
     "start_time": "2023-06-26T09:44:44.999760",
     "status": "completed"
    },
    "tags": []
   },
   "outputs": [
    {
     "name": "stdout",
     "output_type": "stream",
     "text": [
      "     PassengerId  Survived\n",
      "0            892         0\n",
      "1            893         0\n",
      "2            894         0\n",
      "3            895         0\n",
      "4            896         0\n",
      "..           ...       ...\n",
      "413         1305         0\n",
      "414         1306         1\n",
      "415         1307         0\n",
      "416         1308         0\n",
      "417         1309         1\n",
      "\n",
      "[418 rows x 2 columns]\n"
     ]
    }
   ],
   "source": [
    "final_data = {'PassengerId': test_data.PassengerId, 'Survived': y_pred_final}\n",
    "submission = pd.DataFrame(data=final_data)\n",
    "print(submission)\n",
    "submission.to_csv('submission_final.csv', index =False)"
   ]
  }
 ],
 "metadata": {
  "kernelspec": {
   "display_name": "Python 3",
   "language": "python",
   "name": "python3"
  },
  "language_info": {
   "codemirror_mode": {
    "name": "ipython",
    "version": 3
   },
   "file_extension": ".py",
   "mimetype": "text/x-python",
   "name": "python",
   "nbconvert_exporter": "python",
   "pygments_lexer": "ipython3",
   "version": "3.10.10"
  },
  "papermill": {
   "default_parameters": {},
   "duration": 694.886593,
   "end_time": "2023-06-26T09:44:47.671882",
   "environment_variables": {},
   "exception": null,
   "input_path": "__notebook__.ipynb",
   "output_path": "__notebook__.ipynb",
   "parameters": {},
   "start_time": "2023-06-26T09:33:12.785289",
   "version": "2.4.0"
  }
 },
 "nbformat": 4,
 "nbformat_minor": 5
}
